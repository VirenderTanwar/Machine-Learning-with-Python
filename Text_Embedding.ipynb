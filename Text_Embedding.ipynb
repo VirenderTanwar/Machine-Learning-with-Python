{
  "nbformat": 4,
  "nbformat_minor": 0,
  "metadata": {
    "colab": {
      "name": "Text Embedding",
      "provenance": [],
      "collapsed_sections": [],
      "authorship_tag": "ABX9TyMZbU1XOKn8TMBcZ+xkvpT7",
      "include_colab_link": true
    },
    "kernelspec": {
      "name": "python3",
      "display_name": "Python 3"
    },
    "accelerator": "GPU"
  },
  "cells": [
    {
      "cell_type": "markdown",
      "metadata": {
        "id": "view-in-github",
        "colab_type": "text"
      },
      "source": [
        "<a href=\"https://colab.research.google.com/github/VirenderTanwar/Machine-Learning-with-Python/blob/master/Text_Embedding.ipynb\" target=\"_parent\"><img src=\"https://colab.research.google.com/assets/colab-badge.svg\" alt=\"Open In Colab\"/></a>"
      ]
    },
    {
      "cell_type": "code",
      "metadata": {
        "id": "ip9JVa3m4Sli",
        "colab_type": "code",
        "outputId": "9ebfd0da-41e6-4d15-e94a-6a0a411e3907",
        "colab": {
          "base_uri": "https://localhost:8080/",
          "height": 34
        }
      },
      "source": [
        "%tensorflow_version 2.x"
      ],
      "execution_count": 0,
      "outputs": [
        {
          "output_type": "stream",
          "text": [
            "TensorFlow 2.x selected.\n"
          ],
          "name": "stdout"
        }
      ]
    },
    {
      "cell_type": "code",
      "metadata": {
        "id": "jji3FUaM4ijt",
        "colab_type": "code",
        "outputId": "e2a7c823-2b07-49f3-de32-7bdfe3c0b901",
        "colab": {
          "base_uri": "https://localhost:8080/",
          "height": 373
        }
      },
      "source": [
        "!wget https://www.dropbox.com/s/kfye28it99g9j12/imdb_labelled.txt"
      ],
      "execution_count": 0,
      "outputs": [
        {
          "output_type": "stream",
          "text": [
            "--2020-02-06 19:03:15--  https://www.dropbox.com/s/kfye28it99g9j12/imdb_labelled.txt\n",
            "Resolving www.dropbox.com (www.dropbox.com)... 162.125.65.1, 2620:100:6021:1::a27d:4101\n",
            "Connecting to www.dropbox.com (www.dropbox.com)|162.125.65.1|:443... connected.\n",
            "HTTP request sent, awaiting response... 301 Moved Permanently\n",
            "Location: /s/raw/kfye28it99g9j12/imdb_labelled.txt [following]\n",
            "--2020-02-06 19:03:15--  https://www.dropbox.com/s/raw/kfye28it99g9j12/imdb_labelled.txt\n",
            "Reusing existing connection to www.dropbox.com:443.\n",
            "HTTP request sent, awaiting response... 302 Found\n",
            "Location: https://ucbd0efa899fc4eebea55eb6e60c.dl.dropboxusercontent.com/cd/0/inline/AxkbspFVl-Ckb-p29LhaQDx1KfJmz5l6ZiYXofD0Xd41HtaG5j64WpNv9vGXB8YwrKXvk55lswIqFiJGAkocGWsWpKaEKPF8QkBksGYUhfsjuA/file# [following]\n",
            "--2020-02-06 19:03:16--  https://ucbd0efa899fc4eebea55eb6e60c.dl.dropboxusercontent.com/cd/0/inline/AxkbspFVl-Ckb-p29LhaQDx1KfJmz5l6ZiYXofD0Xd41HtaG5j64WpNv9vGXB8YwrKXvk55lswIqFiJGAkocGWsWpKaEKPF8QkBksGYUhfsjuA/file\n",
            "Resolving ucbd0efa899fc4eebea55eb6e60c.dl.dropboxusercontent.com (ucbd0efa899fc4eebea55eb6e60c.dl.dropboxusercontent.com)... 162.125.65.6, 2620:100:6021:6::a27d:4106\n",
            "Connecting to ucbd0efa899fc4eebea55eb6e60c.dl.dropboxusercontent.com (ucbd0efa899fc4eebea55eb6e60c.dl.dropboxusercontent.com)|162.125.65.6|:443... connected.\n",
            "HTTP request sent, awaiting response... 200 OK\n",
            "Length: 85279 (83K) [text/plain]\n",
            "Saving to: ‘imdb_labelled.txt’\n",
            "\n",
            "imdb_labelled.txt   100%[===================>]  83.28K   342KB/s    in 0.2s    \n",
            "\n",
            "2020-02-06 19:03:16 (342 KB/s) - ‘imdb_labelled.txt’ saved [85279/85279]\n",
            "\n"
          ],
          "name": "stdout"
        }
      ]
    },
    {
      "cell_type": "code",
      "metadata": {
        "id": "eBLOVaFC4nmU",
        "colab_type": "code",
        "colab": {}
      },
      "source": [
        "file=r'/content/imdb_labelled.txt'"
      ],
      "execution_count": 0,
      "outputs": []
    },
    {
      "cell_type": "code",
      "metadata": {
        "id": "UWfq8CIt4ypa",
        "colab_type": "code",
        "colab": {}
      },
      "source": [
        "import pandas as pd\n",
        "imbd=pd.read_csv(file,sep='\\t',header=None,names=['review','target'])"
      ],
      "execution_count": 0,
      "outputs": []
    },
    {
      "cell_type": "code",
      "metadata": {
        "id": "hef7Xk7_5DN1",
        "colab_type": "code",
        "outputId": "24f76fd5-ecc3-4607-f60d-705cfa4dcaca",
        "colab": {
          "base_uri": "https://localhost:8080/",
          "height": 353
        }
      },
      "source": [
        "!wget http://nlp.stanford.edu/data/glove.42B.300d.zip"
      ],
      "execution_count": 0,
      "outputs": [
        {
          "output_type": "stream",
          "text": [
            "--2020-02-06 19:14:07--  http://nlp.stanford.edu/data/glove.42B.300d.zip\n",
            "Resolving nlp.stanford.edu (nlp.stanford.edu)... 171.64.67.140\n",
            "Connecting to nlp.stanford.edu (nlp.stanford.edu)|171.64.67.140|:80... connected.\n",
            "HTTP request sent, awaiting response... 302 Found\n",
            "Location: https://nlp.stanford.edu/data/glove.42B.300d.zip [following]\n",
            "--2020-02-06 19:14:07--  https://nlp.stanford.edu/data/glove.42B.300d.zip\n",
            "Connecting to nlp.stanford.edu (nlp.stanford.edu)|171.64.67.140|:443... connected.\n",
            "HTTP request sent, awaiting response... 301 Moved Permanently\n",
            "Location: http://downloads.cs.stanford.edu/nlp/data/glove.42B.300d.zip [following]\n",
            "--2020-02-06 19:14:08--  http://downloads.cs.stanford.edu/nlp/data/glove.42B.300d.zip\n",
            "Resolving downloads.cs.stanford.edu (downloads.cs.stanford.edu)... 171.64.64.22\n",
            "Connecting to downloads.cs.stanford.edu (downloads.cs.stanford.edu)|171.64.64.22|:80... connected.\n",
            "HTTP request sent, awaiting response... 200 OK\n",
            "Length: 1877800501 (1.7G) [application/zip]\n",
            "Saving to: ‘glove.42B.300d.zip’\n",
            "\n",
            "glove.42B.300d.zip  100%[===================>]   1.75G  1.93MB/s    in 14m 34s \n",
            "\n",
            "2020-02-06 19:28:42 (2.05 MB/s) - ‘glove.42B.300d.zip’ saved [1877800501/1877800501]\n",
            "\n"
          ],
          "name": "stdout"
        }
      ]
    },
    {
      "cell_type": "code",
      "metadata": {
        "id": "x-ej8M277G4I",
        "colab_type": "code",
        "colab": {}
      },
      "source": [
        "!rm /content/AAAw1_JIzpuVvwteJCma0xMla?dl=0.1"
      ],
      "execution_count": 0,
      "outputs": []
    },
    {
      "cell_type": "code",
      "metadata": {
        "id": "cfN5grTl-oDp",
        "colab_type": "code",
        "outputId": "6f4675c8-0167-4342-c6a7-2dd9692901a5",
        "colab": {
          "base_uri": "https://localhost:8080/",
          "height": 50
        }
      },
      "source": [
        "!unzip /content/glove.42B.300d.zip"
      ],
      "execution_count": 0,
      "outputs": [
        {
          "output_type": "stream",
          "text": [
            "Archive:  /content/glove.42B.300d.zip\n",
            "  inflating: glove.42B.300d.txt      \n"
          ],
          "name": "stdout"
        }
      ]
    },
    {
      "cell_type": "code",
      "metadata": {
        "id": "PaidxdPF_erv",
        "colab_type": "code",
        "colab": {}
      },
      "source": [
        "import numpy as np"
      ],
      "execution_count": 0,
      "outputs": []
    },
    {
      "cell_type": "code",
      "metadata": {
        "id": "NAwtDYQS_lsm",
        "colab_type": "code",
        "colab": {}
      },
      "source": [
        "embedding_index={}\n",
        "\n",
        "f=open('glove.42B.300d.txt',encoding='utf-8')\n",
        "\n",
        "for line in f:\n",
        "  values=line.split()\n",
        "  word=values[0]\n",
        "  coefs=np.asarray(values[1:],dtype='float32')\n",
        "  embedding_index[word]=coefs\n",
        "f.close()"
      ],
      "execution_count": 0,
      "outputs": []
    },
    {
      "cell_type": "code",
      "metadata": {
        "id": "xow_1iFUAmz7",
        "colab_type": "code",
        "colab": {}
      },
      "source": [
        "from sklearn.model_selection import train_test_split\n",
        "data_train,data_test=train_test_split(imbd,test_size=0.2)"
      ],
      "execution_count": 0,
      "outputs": []
    },
    {
      "cell_type": "code",
      "metadata": {
        "id": "t4CZQrefA5jG",
        "colab_type": "code",
        "colab": {}
      },
      "source": [
        "x_train=data_train['review']\n",
        "y_train=data_train['target']\n",
        "x_test=data_test['review']\n",
        "y_test=data_test['target']"
      ],
      "execution_count": 0,
      "outputs": []
    },
    {
      "cell_type": "code",
      "metadata": {
        "id": "hKyhc4AKBHNx",
        "colab_type": "code",
        "colab": {}
      },
      "source": [
        "from tensorflow.keras.preprocessing.text import Tokenizer\n",
        "from tensorflow.keras.preprocessing import sequence\n",
        "from tensorflow.keras.layers import LSTM, Activation,Dense,Input,Embedding,Dropout\n",
        "from tensorflow.keras.models import Model"
      ],
      "execution_count": 0,
      "outputs": []
    },
    {
      "cell_type": "code",
      "metadata": {
        "id": "7X92ZyzOBJPV",
        "colab_type": "code",
        "outputId": "3d7a41c8-6120-4ad5-84b0-d359651863bf",
        "colab": {
          "base_uri": "https://localhost:8080/",
          "height": 67
        }
      },
      "source": [
        "from nltk import word_tokenize\n",
        "import nltk\n",
        "nltk.download('punkt')"
      ],
      "execution_count": 0,
      "outputs": [
        {
          "output_type": "stream",
          "text": [
            "[nltk_data] Downloading package punkt to /root/nltk_data...\n",
            "[nltk_data]   Unzipping tokenizers/punkt.zip.\n"
          ],
          "name": "stdout"
        },
        {
          "output_type": "execute_result",
          "data": {
            "text/plain": [
              "True"
            ]
          },
          "metadata": {
            "tags": []
          },
          "execution_count": 30
        }
      ]
    },
    {
      "cell_type": "code",
      "metadata": {
        "id": "DB1qgR0EDSqX",
        "colab_type": "code",
        "outputId": "9fcb80aa-0c96-4369-b34b-c550fd4a7c32",
        "colab": {
          "base_uri": "https://localhost:8080/",
          "height": 34
        }
      },
      "source": [
        "sent_lens=[len(word_tokenize(x)) for x in x_train]\n",
        "max(sent_lens)"
      ],
      "execution_count": 0,
      "outputs": [
        {
          "output_type": "execute_result",
          "data": {
            "text/plain": [
              "1616"
            ]
          },
          "metadata": {
            "tags": []
          },
          "execution_count": 33
        }
      ]
    },
    {
      "cell_type": "code",
      "metadata": {
        "id": "QvYrYXdcDhZN",
        "colab_type": "code",
        "outputId": "b3147cc1-2303-4adf-d583-a0b965fbfe3b",
        "colab": {
          "base_uri": "https://localhost:8080/",
          "height": 34
        }
      },
      "source": [
        "np.percentile(sent_lens,95)"
      ],
      "execution_count": 0,
      "outputs": [
        {
          "output_type": "execute_result",
          "data": {
            "text/plain": [
              "41.0"
            ]
          },
          "metadata": {
            "tags": []
          },
          "execution_count": 35
        }
      ]
    },
    {
      "cell_type": "code",
      "metadata": {
        "id": "KCvNqubeDxXq",
        "colab_type": "code",
        "colab": {}
      },
      "source": [
        "max_len=40\n",
        "\n",
        "tk=Tokenizer(char_level=False,split=' ')\n",
        "\n",
        "tk.fit_on_texts(x_train)\n",
        "\n",
        "seq_train=tk.texts_to_sequences(x_train)\n",
        "seq_test=tk.texts_to_sequences(x_test)\n",
        "\n",
        "vocab_size=len(tk.word_index)\n",
        "\n",
        "seq_train_matrix=sequence.pad_sequences(seq_train,maxlen=max_len)\n",
        "seq_test_matrix=sequence.pad_sequences(seq_test,maxlen=max_len)"
      ],
      "execution_count": 0,
      "outputs": []
    },
    {
      "cell_type": "code",
      "metadata": {
        "id": "5t031cvAG_ee",
        "colab_type": "code",
        "outputId": "6aa5e25d-8617-43a4-da03-1a54bcc0e65e",
        "colab": {
          "base_uri": "https://localhost:8080/",
          "height": 34
        }
      },
      "source": [
        "vocab_size"
      ],
      "execution_count": 0,
      "outputs": [
        {
          "output_type": "execute_result",
          "data": {
            "text/plain": [
              "2833"
            ]
          },
          "metadata": {
            "tags": []
          },
          "execution_count": 62
        }
      ]
    },
    {
      "cell_type": "code",
      "metadata": {
        "id": "2JfbsZk_HFOu",
        "colab_type": "code",
        "colab": {}
      },
      "source": [
        "embedding_matrix=np.zeros((vocab_size+1,300))\n",
        "\n",
        "for word,i in tk.word_index.items():\n",
        "    embed_vector=embedding_index.get(word)\n",
        "    if embed_vector is not None:\n",
        "        embedding_matrix[i]=embed_vector\n"
      ],
      "execution_count": 0,
      "outputs": []
    },
    {
      "cell_type": "code",
      "metadata": {
        "id": "LI6IFQocH3or",
        "colab_type": "code",
        "colab": {}
      },
      "source": [
        ""
      ],
      "execution_count": 0,
      "outputs": []
    },
    {
      "cell_type": "code",
      "metadata": {
        "id": "wrYb6B6eJceo",
        "colab_type": "code",
        "colab": {}
      },
      "source": [
        "inputs=Input(name='text_input',shape=[max_len])\n",
        "embed=Embedding(vocab_size+1,300,input_length=max_len,mask_zero=True,\n",
        "                weights=[embedding_matrix],trainable=False)(inputs)\n",
        "lstm_layer=LSTM(50)(embed)\n",
        "dense1=Dense(10,activation='relu')(lstm_layer)\n",
        "drop=Dropout(0.2)(dense1)\n",
        "final_layer=Dense(1,activation='sigmoid')(drop)\n",
        "\n",
        "model=Model(inputs=inputs,outputs=final_layer)"
      ],
      "execution_count": 0,
      "outputs": []
    },
    {
      "cell_type": "code",
      "metadata": {
        "id": "JhWBDIyHK7x6",
        "colab_type": "code",
        "outputId": "d13e8d15-48ef-4f03-d25a-216ad7e7acdf",
        "colab": {
          "base_uri": "https://localhost:8080/",
          "height": 353
        }
      },
      "source": [
        "model.summary()"
      ],
      "execution_count": 0,
      "outputs": [
        {
          "output_type": "stream",
          "text": [
            "Model: \"model\"\n",
            "_________________________________________________________________\n",
            "Layer (type)                 Output Shape              Param #   \n",
            "=================================================================\n",
            "text_input (InputLayer)      [(None, 40)]              0         \n",
            "_________________________________________________________________\n",
            "embedding (Embedding)        (None, 40, 300)           850200    \n",
            "_________________________________________________________________\n",
            "lstm (LSTM)                  (None, 50)                70200     \n",
            "_________________________________________________________________\n",
            "dense (Dense)                (None, 10)                510       \n",
            "_________________________________________________________________\n",
            "dropout (Dropout)            (None, 10)                0         \n",
            "_________________________________________________________________\n",
            "dense_1 (Dense)              (None, 1)                 11        \n",
            "=================================================================\n",
            "Total params: 920,921\n",
            "Trainable params: 70,721\n",
            "Non-trainable params: 850,200\n",
            "_________________________________________________________________\n"
          ],
          "name": "stdout"
        }
      ]
    },
    {
      "cell_type": "code",
      "metadata": {
        "id": "W5pxqiLTLA5U",
        "colab_type": "code",
        "outputId": "218e05e6-2340-4e3c-9061-823c58b8ef62",
        "colab": {
          "base_uri": "https://localhost:8080/",
          "height": 1000
        }
      },
      "source": [
        "model.compile(optimizer='adam',loss='binary_crossentropy',metrics=['accuracy'])\n",
        "model.fit(seq_train_matrix,y_train.values,validation_data=[seq_test_matrix,y_test.values],epochs=40,class_weight={0:1,1:12},\n",
        "          batch_size=50)\n",
        "p=model.predict(seq_test_matrix)"
      ],
      "execution_count": 0,
      "outputs": [
        {
          "output_type": "stream",
          "text": [
            "WARNING:tensorflow:sample_weight modes were coerced from\n",
            "  ...\n",
            "    to  \n",
            "  ['...']\n",
            "WARNING:tensorflow:sample_weight modes were coerced from\n",
            "  ...\n",
            "    to  \n",
            "  ['...']\n",
            "Train on 598 samples, validate on 150 samples\n",
            "Epoch 1/40\n",
            "598/598 [==============================] - 4s 6ms/sample - loss: 4.0906 - accuracy: 0.5117 - val_loss: 2.8570 - val_accuracy: 0.4733\n",
            "Epoch 2/40\n",
            "598/598 [==============================] - 1s 1ms/sample - loss: 2.7595 - accuracy: 0.5301 - val_loss: 2.0175 - val_accuracy: 0.4667\n",
            "Epoch 3/40\n",
            "598/598 [==============================] - 1s 861us/sample - loss: 2.0920 - accuracy: 0.5284 - val_loss: 1.7811 - val_accuracy: 0.4667\n",
            "Epoch 4/40\n",
            "598/598 [==============================] - 1s 968us/sample - loss: 1.9101 - accuracy: 0.5284 - val_loss: 1.7631 - val_accuracy: 0.4667\n",
            "Epoch 5/40\n",
            "598/598 [==============================] - 1s 972us/sample - loss: 1.9194 - accuracy: 0.5268 - val_loss: 1.7594 - val_accuracy: 0.4667\n",
            "Epoch 6/40\n",
            "598/598 [==============================] - 1s 921us/sample - loss: 1.9195 - accuracy: 0.5284 - val_loss: 1.7377 - val_accuracy: 0.4667\n",
            "Epoch 7/40\n",
            "598/598 [==============================] - 1s 982us/sample - loss: 1.7925 - accuracy: 0.5301 - val_loss: 1.7181 - val_accuracy: 0.4667\n",
            "Epoch 8/40\n",
            "598/598 [==============================] - 1s 957us/sample - loss: 1.7963 - accuracy: 0.5284 - val_loss: 1.6965 - val_accuracy: 0.4667\n",
            "Epoch 9/40\n",
            "598/598 [==============================] - 1s 1ms/sample - loss: 1.7129 - accuracy: 0.5284 - val_loss: 1.6646 - val_accuracy: 0.4667\n",
            "Epoch 10/40\n",
            "598/598 [==============================] - 1s 896us/sample - loss: 1.6950 - accuracy: 0.5284 - val_loss: 1.6221 - val_accuracy: 0.4667\n",
            "Epoch 11/40\n",
            "598/598 [==============================] - 1s 1ms/sample - loss: 1.6434 - accuracy: 0.5301 - val_loss: 1.5666 - val_accuracy: 0.4667\n",
            "Epoch 12/40\n",
            "598/598 [==============================] - 1s 931us/sample - loss: 1.5663 - accuracy: 0.5301 - val_loss: 1.5003 - val_accuracy: 0.4733\n",
            "Epoch 13/40\n",
            "598/598 [==============================] - 1s 949us/sample - loss: 1.4788 - accuracy: 0.5301 - val_loss: 1.4055 - val_accuracy: 0.4733\n",
            "Epoch 14/40\n",
            "598/598 [==============================] - 1s 941us/sample - loss: 1.3912 - accuracy: 0.5401 - val_loss: 1.2861 - val_accuracy: 0.4733\n",
            "Epoch 15/40\n",
            "598/598 [==============================] - 1s 899us/sample - loss: 1.3207 - accuracy: 0.5452 - val_loss: 1.4302 - val_accuracy: 0.4733\n",
            "Epoch 16/40\n",
            "598/598 [==============================] - 1s 1ms/sample - loss: 1.2290 - accuracy: 0.5619 - val_loss: 1.3563 - val_accuracy: 0.4733\n",
            "Epoch 17/40\n",
            "598/598 [==============================] - 1s 988us/sample - loss: 1.2226 - accuracy: 0.6538 - val_loss: 1.1702 - val_accuracy: 0.5333\n",
            "Epoch 18/40\n",
            "598/598 [==============================] - 1s 966us/sample - loss: 1.0091 - accuracy: 0.7207 - val_loss: 1.3472 - val_accuracy: 0.6467\n",
            "Epoch 19/40\n",
            "598/598 [==============================] - 1s 941us/sample - loss: 0.9956 - accuracy: 0.6722 - val_loss: 1.0911 - val_accuracy: 0.6000\n",
            "Epoch 20/40\n",
            "598/598 [==============================] - 1s 924us/sample - loss: 0.9186 - accuracy: 0.7391 - val_loss: 1.1085 - val_accuracy: 0.6200\n",
            "Epoch 21/40\n",
            "598/598 [==============================] - 1s 974us/sample - loss: 0.7872 - accuracy: 0.7860 - val_loss: 1.1145 - val_accuracy: 0.7333\n",
            "Epoch 22/40\n",
            "598/598 [==============================] - 1s 966us/sample - loss: 0.6834 - accuracy: 0.8094 - val_loss: 1.1631 - val_accuracy: 0.7667\n",
            "Epoch 23/40\n",
            "598/598 [==============================] - 1s 919us/sample - loss: 0.7406 - accuracy: 0.8127 - val_loss: 1.1609 - val_accuracy: 0.7533\n",
            "Epoch 24/40\n",
            "598/598 [==============================] - 1s 977us/sample - loss: 0.6082 - accuracy: 0.8311 - val_loss: 1.2303 - val_accuracy: 0.7800\n",
            "Epoch 25/40\n",
            "598/598 [==============================] - 1s 972us/sample - loss: 0.5266 - accuracy: 0.8696 - val_loss: 1.1130 - val_accuracy: 0.7667\n",
            "Epoch 26/40\n",
            "598/598 [==============================] - 1s 898us/sample - loss: 0.5516 - accuracy: 0.8880 - val_loss: 1.1115 - val_accuracy: 0.7400\n",
            "Epoch 27/40\n",
            "598/598 [==============================] - 1s 900us/sample - loss: 0.4140 - accuracy: 0.8997 - val_loss: 1.1272 - val_accuracy: 0.7133\n",
            "Epoch 28/40\n",
            "598/598 [==============================] - 1s 878us/sample - loss: 0.4641 - accuracy: 0.8846 - val_loss: 1.0769 - val_accuracy: 0.7600\n",
            "Epoch 29/40\n",
            "598/598 [==============================] - 1s 939us/sample - loss: 0.3621 - accuracy: 0.9264 - val_loss: 1.2498 - val_accuracy: 0.8000\n",
            "Epoch 30/40\n",
            "598/598 [==============================] - 1s 959us/sample - loss: 0.3480 - accuracy: 0.9298 - val_loss: 1.2954 - val_accuracy: 0.7667\n",
            "Epoch 31/40\n",
            "598/598 [==============================] - 1s 932us/sample - loss: 0.3332 - accuracy: 0.9415 - val_loss: 1.2704 - val_accuracy: 0.7733\n",
            "Epoch 32/40\n",
            "598/598 [==============================] - 1s 928us/sample - loss: 0.2477 - accuracy: 0.9632 - val_loss: 1.5489 - val_accuracy: 0.8000\n",
            "Epoch 33/40\n",
            "598/598 [==============================] - 1s 980us/sample - loss: 0.1873 - accuracy: 0.9766 - val_loss: 1.4655 - val_accuracy: 0.8000\n",
            "Epoch 34/40\n",
            "598/598 [==============================] - 1s 948us/sample - loss: 0.2042 - accuracy: 0.9783 - val_loss: 1.8912 - val_accuracy: 0.8000\n",
            "Epoch 35/40\n",
            "598/598 [==============================] - 1s 955us/sample - loss: 0.1533 - accuracy: 0.9799 - val_loss: 1.9549 - val_accuracy: 0.8000\n",
            "Epoch 36/40\n",
            "598/598 [==============================] - 1s 929us/sample - loss: 0.1419 - accuracy: 0.9833 - val_loss: 2.0899 - val_accuracy: 0.8000\n",
            "Epoch 37/40\n",
            "598/598 [==============================] - 1s 960us/sample - loss: 0.1584 - accuracy: 0.9833 - val_loss: 1.3373 - val_accuracy: 0.7800\n",
            "Epoch 38/40\n",
            "598/598 [==============================] - 1s 1ms/sample - loss: 0.1277 - accuracy: 0.9749 - val_loss: 2.3526 - val_accuracy: 0.7867\n",
            "Epoch 39/40\n",
            "598/598 [==============================] - 1s 928us/sample - loss: 0.1115 - accuracy: 0.9799 - val_loss: 2.8402 - val_accuracy: 0.7867\n",
            "Epoch 40/40\n",
            "598/598 [==============================] - 1s 941us/sample - loss: 0.1031 - accuracy: 0.9916 - val_loss: 2.3351 - val_accuracy: 0.7933\n"
          ],
          "name": "stdout"
        }
      ]
    },
    {
      "cell_type": "code",
      "metadata": {
        "id": "0D1viJNNMWuf",
        "colab_type": "code",
        "outputId": "7186dddf-fb28-4cda-c0dc-f2888004c57a",
        "colab": {
          "base_uri": "https://localhost:8080/",
          "height": 1000
        }
      },
      "source": [
        "p"
      ],
      "execution_count": 0,
      "outputs": [
        {
          "output_type": "execute_result",
          "data": {
            "text/plain": [
              "array([[0.9998516 ],\n",
              "       [0.9994993 ],\n",
              "       [0.00579112],\n",
              "       [0.99968433],\n",
              "       [0.9998845 ],\n",
              "       [0.010332  ],\n",
              "       [0.00870566],\n",
              "       [0.98379135],\n",
              "       [0.9929807 ],\n",
              "       [0.9991211 ],\n",
              "       [0.99973637],\n",
              "       [0.9998776 ],\n",
              "       [0.4163789 ],\n",
              "       [0.9982628 ],\n",
              "       [0.92832816],\n",
              "       [0.9978822 ],\n",
              "       [0.9953231 ],\n",
              "       [0.99976677],\n",
              "       [0.00340438],\n",
              "       [0.9998466 ],\n",
              "       [0.9977481 ],\n",
              "       [0.9998846 ],\n",
              "       [0.9999044 ],\n",
              "       [0.7448833 ],\n",
              "       [0.8739525 ],\n",
              "       [0.43967196],\n",
              "       [0.08670631],\n",
              "       [0.75634813],\n",
              "       [0.00937072],\n",
              "       [0.1647998 ],\n",
              "       [0.9609995 ],\n",
              "       [0.999824  ],\n",
              "       [0.08456764],\n",
              "       [0.10473842],\n",
              "       [0.00431661],\n",
              "       [0.99980766],\n",
              "       [0.99990773],\n",
              "       [0.04995671],\n",
              "       [0.19084229],\n",
              "       [0.9948197 ],\n",
              "       [0.94573456],\n",
              "       [0.00453813],\n",
              "       [0.059568  ],\n",
              "       [0.96348363],\n",
              "       [0.02271755],\n",
              "       [0.02231664],\n",
              "       [0.99735105],\n",
              "       [0.00681736],\n",
              "       [0.99979216],\n",
              "       [0.99675864],\n",
              "       [0.9991929 ],\n",
              "       [0.99985385],\n",
              "       [0.01375336],\n",
              "       [0.999785  ],\n",
              "       [0.00734361],\n",
              "       [0.39109513],\n",
              "       [0.9992539 ],\n",
              "       [0.99032426],\n",
              "       [0.07408836],\n",
              "       [0.02269817],\n",
              "       [0.99690264],\n",
              "       [0.99985206],\n",
              "       [0.9894168 ],\n",
              "       [0.00485727],\n",
              "       [0.00356811],\n",
              "       [0.9998759 ],\n",
              "       [0.5296086 ],\n",
              "       [0.47333834],\n",
              "       [0.00433719],\n",
              "       [0.94885993],\n",
              "       [0.01144407],\n",
              "       [0.99951637],\n",
              "       [0.48072892],\n",
              "       [0.00418963],\n",
              "       [0.00367583],\n",
              "       [0.99981326],\n",
              "       [0.99970585],\n",
              "       [0.9301046 ],\n",
              "       [0.0722606 ],\n",
              "       [0.99991655],\n",
              "       [0.0078776 ],\n",
              "       [0.9998915 ],\n",
              "       [0.06499311],\n",
              "       [0.99561983],\n",
              "       [0.9997403 ],\n",
              "       [0.9998227 ],\n",
              "       [0.99842584],\n",
              "       [0.99985933],\n",
              "       [0.00271744],\n",
              "       [0.9996624 ],\n",
              "       [0.999811  ],\n",
              "       [0.01225216],\n",
              "       [0.99946874],\n",
              "       [0.9999094 ],\n",
              "       [0.00727351],\n",
              "       [0.3344547 ],\n",
              "       [0.01479181],\n",
              "       [0.00289661],\n",
              "       [0.99989355],\n",
              "       [0.99991345],\n",
              "       [0.11559455],\n",
              "       [0.00550709],\n",
              "       [0.9999186 ],\n",
              "       [0.96395695],\n",
              "       [0.00662968],\n",
              "       [0.00959865],\n",
              "       [0.99991155],\n",
              "       [0.99976677],\n",
              "       [0.60723174],\n",
              "       [0.3122889 ],\n",
              "       [0.9998796 ],\n",
              "       [0.99988806],\n",
              "       [0.14657688],\n",
              "       [0.99627197],\n",
              "       [0.00330876],\n",
              "       [0.99948657],\n",
              "       [0.9708765 ],\n",
              "       [0.9999206 ],\n",
              "       [0.9761741 ],\n",
              "       [0.00417115],\n",
              "       [0.1668967 ],\n",
              "       [0.9676234 ],\n",
              "       [0.97650075],\n",
              "       [0.9977915 ],\n",
              "       [0.9990589 ],\n",
              "       [0.08546796],\n",
              "       [0.7247482 ],\n",
              "       [0.01465623],\n",
              "       [0.99594766],\n",
              "       [0.9991466 ],\n",
              "       [0.00509268],\n",
              "       [0.99990225],\n",
              "       [0.98850083],\n",
              "       [0.01393985],\n",
              "       [0.00281868],\n",
              "       [0.9940832 ],\n",
              "       [0.0027396 ],\n",
              "       [0.999762  ],\n",
              "       [0.8436505 ],\n",
              "       [0.99984777],\n",
              "       [0.4363714 ],\n",
              "       [0.9874029 ],\n",
              "       [0.9942631 ],\n",
              "       [0.00418555],\n",
              "       [0.99966383],\n",
              "       [0.00556671],\n",
              "       [0.03429213],\n",
              "       [0.01007665],\n",
              "       [0.00408966],\n",
              "       [0.1258856 ]], dtype=float32)"
            ]
          },
          "metadata": {
            "tags": []
          },
          "execution_count": 67
        }
      ]
    },
    {
      "cell_type": "code",
      "metadata": {
        "id": "zulE4L93MXdV",
        "colab_type": "code",
        "outputId": "d7d43be6-9fb2-4796-8031-7031cdbf4ae1",
        "colab": {
          "base_uri": "https://localhost:8080/",
          "height": 34
        }
      },
      "source": [
        "from sklearn.metrics import roc_auc_score\n",
        "roc_auc_score(y_test,p)"
      ],
      "execution_count": 0,
      "outputs": [
        {
          "output_type": "execute_result",
          "data": {
            "text/plain": [
              "0.88875"
            ]
          },
          "metadata": {
            "tags": []
          },
          "execution_count": 68
        }
      ]
    },
    {
      "cell_type": "code",
      "metadata": {
        "id": "4OVO75AVMZLJ",
        "colab_type": "code",
        "colab": {}
      },
      "source": [
        ""
      ],
      "execution_count": 0,
      "outputs": []
    }
  ]
}